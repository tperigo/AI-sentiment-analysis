{
 "cells": [
  {
   "cell_type": "markdown",
   "metadata": {},
   "source": [
    "# Sentiment Analysis using Tensorflow"
   ]
  },
  {
   "cell_type": "markdown",
   "metadata": {},
   "source": [
    "### Setup"
   ]
  },
  {
   "cell_type": "code",
   "execution_count": 1,
   "metadata": {},
   "outputs": [],
   "source": [
    "import pandas as pd\n",
    "import numpy as np\n",
    "import matplotlib.pyplot as plt\n",
    "import tensorflow as tf\n",
    "import re\n",
    "from tensorflow.keras.preprocessing.text import Tokenizer\n",
    "from tensorflow.keras.preprocessing.sequence import pad_sequences \n",
    "from sklearn.model_selection import train_test_split"
   ]
  },
  {
   "cell_type": "markdown",
   "metadata": {},
   "source": [
    "### Load data"
   ]
  },
  {
   "cell_type": "code",
   "execution_count": 2,
   "metadata": {},
   "outputs": [
    {
     "data": {
      "text/html": [
       "<div>\n",
       "<style scoped>\n",
       "    .dataframe tbody tr th:only-of-type {\n",
       "        vertical-align: middle;\n",
       "    }\n",
       "\n",
       "    .dataframe tbody tr th {\n",
       "        vertical-align: top;\n",
       "    }\n",
       "\n",
       "    .dataframe thead th {\n",
       "        text-align: right;\n",
       "    }\n",
       "</style>\n",
       "<table border=\"1\" class=\"dataframe\">\n",
       "  <thead>\n",
       "    <tr style=\"text-align: right;\">\n",
       "      <th></th>\n",
       "      <th>textID</th>\n",
       "      <th>text</th>\n",
       "      <th>sentiment</th>\n",
       "    </tr>\n",
       "  </thead>\n",
       "  <tbody>\n",
       "    <tr>\n",
       "      <th>0</th>\n",
       "      <td>tpryan</td>\n",
       "      <td>@stellargirl I loooooooovvvvvveee my Kindle2. ...</td>\n",
       "      <td>positive</td>\n",
       "    </tr>\n",
       "    <tr>\n",
       "      <th>1</th>\n",
       "      <td>vcu451</td>\n",
       "      <td>Reading my kindle2...  Love it... Lee childs i...</td>\n",
       "      <td>positive</td>\n",
       "    </tr>\n",
       "    <tr>\n",
       "      <th>2</th>\n",
       "      <td>mandanicole</td>\n",
       "      <td>how can you not love Obama? he makes jokes abo...</td>\n",
       "      <td>positive</td>\n",
       "    </tr>\n",
       "    <tr>\n",
       "      <th>3</th>\n",
       "      <td>kylesellers</td>\n",
       "      <td>@Karoli I firmly believe that Obama/Pelosi hav...</td>\n",
       "      <td>negative</td>\n",
       "    </tr>\n",
       "    <tr>\n",
       "      <th>4</th>\n",
       "      <td>theviewfans</td>\n",
       "      <td>House Correspondents dinner was last night who...</td>\n",
       "      <td>positive</td>\n",
       "    </tr>\n",
       "  </tbody>\n",
       "</table>\n",
       "</div>"
      ],
      "text/plain": [
       "        textID                                               text sentiment\n",
       "0       tpryan  @stellargirl I loooooooovvvvvveee my Kindle2. ...  positive\n",
       "1       vcu451  Reading my kindle2...  Love it... Lee childs i...  positive\n",
       "2  mandanicole  how can you not love Obama? he makes jokes abo...  positive\n",
       "3  kylesellers  @Karoli I firmly believe that Obama/Pelosi hav...  negative\n",
       "4  theviewfans  House Correspondents dinner was last night who...  positive"
      ]
     },
     "execution_count": 2,
     "metadata": {},
     "output_type": "execute_result"
    }
   ],
   "source": [
    "LOCAL_DATA_FILE = \"data\\cTweets.csv\"\n",
    "\n",
    "df = pd.read_csv(LOCAL_DATA_FILE, names=[\"textID\",\"text\",\"sentiment\"])\n",
    "\n",
    "df.head(5)"
   ]
  },
  {
   "cell_type": "markdown",
   "metadata": {},
   "source": [
    "### Describe Data\n",
    "\n",
    "Show distribution of sentiment lables in the datafile"
   ]
  },
  {
   "cell_type": "code",
   "execution_count": 3,
   "metadata": {},
   "outputs": [
    {
     "data": {
      "image/png": "[encoded data removed]",
      "text/plain": [
       "<Figure size 432x288 with 1 Axes>"
      ]
     },
     "metadata": {
      "needs_background": "light"
     },
     "output_type": "display_data"
    }
   ],
   "source": [
    "fig = plt.figure()\n",
    "ax = fig.add_axes([0,0,1,1])\n",
    "polarity = ['Negative', 'Positive', 'Neutral']\n",
    "value = [df['sentiment'].value_counts()[0],df['sentiment'].value_counts()[1],df['sentiment'].value_counts()[2]]\n",
    "ax.bar(polarity,value)\n",
    "plt.show()"
   ]
  },
  {
   "cell_type": "code",
   "execution_count": 4,
   "metadata": {},
   "outputs": [
    {
     "data": {
      "text/plain": [
       "positive    20350\n",
       "negative    20198\n",
       "neutral     11118\n",
       "Name: sentiment, dtype: int64"
      ]
     },
     "execution_count": 4,
     "metadata": {},
     "output_type": "execute_result"
    }
   ],
   "source": [
    "df['sentiment'].value_counts()"
   ]
  },
  {
   "cell_type": "markdown",
   "metadata": {},
   "source": [
    "### Process and clean data for use in model"
   ]
  },
  {
   "cell_type": "code",
   "execution_count": 5,
   "metadata": {},
   "outputs": [],
   "source": [
    "def clean_text(text):\n",
    "  text = re.sub(\"[^a-zA-Z]\",\" \",str(text))      # Replace all non-letters with spaces\n",
    "  text = re.sub(r'@[A-Za-z0-9]+', '', text)     # Remove @mentions\n",
    "  text = re.sub(r'@[A-Za-zA-Z0-9]+', '', text)  # Remove @mentions \n",
    "  text = re.sub(r'@[A-Za-z]+', '', text)        # Remove @mentions\n",
    "  text = re.sub(r'@[-)]+', '', text)            # Remove @mentions\n",
    "  text = re.sub(r'#', '', text )                # Remove '#' sign\n",
    "  text = re.sub(r'RT[\\s]+', '', text)           # Remove RT\n",
    "  text = re.sub(r'https?\\/\\/\\S+', '', text)     # Remove the hyper link\n",
    "  text = re.sub(r'&[a-z;]+', '', text)          # Remove '&gt;'\n",
    "  text = re.sub(\"\\s\\s+\", \" \", (text))           # Remove excess whitespace\n",
    "  return text"
   ]
  },
  {
   "cell_type": "code",
   "execution_count": 6,
   "metadata": {},
   "outputs": [
    {
     "data": {
      "text/html": [
       "<div>\n",
       "<style scoped>\n",
       "    .dataframe tbody tr th:only-of-type {\n",
       "        vertical-align: middle;\n",
       "    }\n",
       "\n",
       "    .dataframe tbody tr th {\n",
       "        vertical-align: top;\n",
       "    }\n",
       "\n",
       "    .dataframe thead th {\n",
       "        text-align: right;\n",
       "    }\n",
       "</style>\n",
       "<table border=\"1\" class=\"dataframe\">\n",
       "  <thead>\n",
       "    <tr style=\"text-align: right;\">\n",
       "      <th></th>\n",
       "      <th>text</th>\n",
       "      <th>sentiment</th>\n",
       "    </tr>\n",
       "  </thead>\n",
       "  <tbody>\n",
       "    <tr>\n",
       "      <th>0</th>\n",
       "      <td>Sure its easier to login every day and make p...</td>\n",
       "      <td>1.0</td>\n",
       "    </tr>\n",
       "    <tr>\n",
       "      <th>1</th>\n",
       "      <td>BankyHype or she could have just realized in ...</td>\n",
       "      <td>0.0</td>\n",
       "    </tr>\n",
       "    <tr>\n",
       "      <th>2</th>\n",
       "      <td>iamshur http cadence latchmered org new blog</td>\n",
       "      <td>1.0</td>\n",
       "    </tr>\n",
       "    <tr>\n",
       "      <th>3</th>\n",
       "      <td>Heading to quot hope in the city quot benefit ...</td>\n",
       "      <td>1.0</td>\n",
       "    </tr>\n",
       "    <tr>\n",
       "      <th>4</th>\n",
       "      <td>Just finished reading Chuck Palahniuk s Pygmy ...</td>\n",
       "      <td>0.0</td>\n",
       "    </tr>\n",
       "  </tbody>\n",
       "</table>\n",
       "</div>"
      ],
      "text/plain": [
       "                                                text  sentiment\n",
       "0   Sure its easier to login every day and make p...        1.0\n",
       "1   BankyHype or she could have just realized in ...        0.0\n",
       "2      iamshur http cadence latchmered org new blog         1.0\n",
       "3  Heading to quot hope in the city quot benefit ...        1.0\n",
       "4  Just finished reading Chuck Palahniuk s Pygmy ...        0.0"
      ]
     },
     "execution_count": 6,
     "metadata": {},
     "output_type": "execute_result"
    }
   ],
   "source": [
    "df = df.drop(columns='textID')\n",
    "df = df[df.sentiment != \"neutral\"]\n",
    "\n",
    "df.text = df.text.apply(clean_text)\n",
    "\n",
    "df = df.replace(\"negative\", 0.0)\n",
    "df = df.replace(\"positive\", 1.0)\n",
    "\n",
    "df = df.sample(frac=1).reset_index(drop=True)\n",
    "\n",
    "df.head(5)"
   ]
  },
  {
   "cell_type": "markdown",
   "metadata": {},
   "source": [
    "Split the data into two sets, training data and testing data"
   ]
  },
  {
   "cell_type": "code",
   "execution_count": 7,
   "metadata": {},
   "outputs": [],
   "source": [
    "x_train, x_test, y_train, y_test = train_test_split(df['text'].values, df['sentiment'].values,test_size=0.30)"
   ]
  },
  {
   "cell_type": "markdown",
   "metadata": {},
   "source": [
    "Convert the text strings into integers by using Tokenizer. Check the word index and set the vocabulary "
   ]
  },
  {
   "cell_type": "code",
   "execution_count": 8,
   "metadata": {},
   "outputs": [
    {
     "name": "stdout",
     "output_type": "stream",
     "text": [
      "Vocabulary size:  31753\n"
     ]
    }
   ],
   "source": [
    "VOCAB_SIZE = 2000000\n",
    "tokenizer = Tokenizer(num_words=VOCAB_SIZE)\n",
    "tokenizer.fit_on_texts(x_train)\n",
    "wordIndex = tokenizer.word_index\n",
    "vocab = len(wordIndex)\n",
    "\n",
    "print('Vocabulary size: ', vocab)"
   ]
  },
  {
   "cell_type": "markdown",
   "metadata": {},
   "source": [
    "Convert the data into sequences"
   ]
  },
  {
   "cell_type": "code",
   "execution_count": 9,
   "metadata": {},
   "outputs": [
    {
     "name": "stdout",
     "output_type": "stream",
     "text": [
      "Training sequence:  [6, 513, 2767]\n",
      "Testing sequence:  [7507, 393, 52, 1174, 45, 3981, 1, 126, 19, 2, 42, 397, 514, 533, 14, 397, 1431, 198]\n"
     ]
    }
   ],
   "source": [
    "train_seq = tokenizer.texts_to_sequences(x_train)\n",
    "test_seq = tokenizer.texts_to_sequences(x_test)\n",
    "\n",
    "print('Training sequence: ', train_seq[0])\n",
    "print('Testing sequence: ', test_seq[0])"
   ]
  },
  {
   "cell_type": "markdown",
   "metadata": {},
   "source": [
    "Add padding to both sequences"
   ]
  },
  {
   "cell_type": "code",
   "execution_count": 10,
   "metadata": {},
   "outputs": [
    {
     "name": "stdout",
     "output_type": "stream",
     "text": [
      "Training sequence length:  48\n"
     ]
    }
   ],
   "source": [
    "pad_train = pad_sequences(train_seq)\n",
    "T = pad_train.shape[1]\n",
    "print('Training sequence length: ', T)"
   ]
  },
  {
   "cell_type": "code",
   "execution_count": 11,
   "metadata": {},
   "outputs": [
    {
     "name": "stdout",
     "output_type": "stream",
     "text": [
      "Testing sequence length:  48\n"
     ]
    }
   ],
   "source": [
    "pad_test = pad_sequences(test_seq, maxlen=T)\n",
    "print('Testing sequence length: ', pad_test.shape[1])"
   ]
  },
  {
   "cell_type": "markdown",
   "metadata": {},
   "source": [
    "### Build the Model"
   ]
  },
  {
   "cell_type": "code",
   "execution_count": 12,
   "metadata": {},
   "outputs": [],
   "source": [
    "model = tf.keras.Sequential()\n",
    "model.add(tf.keras.Input(shape=(T, )))\n",
    "model.add(tf.keras.layers.Embedding(vocab+1, 20))\n",
    "model.add(tf.keras.layers.LSTM(15, return_sequences=True))\n",
    "model.add(tf.keras.layers.GlobalMaxPooling1D())\n",
    "model.add(tf.keras.layers.Dense(32, activation='relu'))\n",
    "model.add(tf.keras.layers.Dense(1, activation='sigmoid'))"
   ]
  },
  {
   "cell_type": "markdown",
   "metadata": {},
   "source": [
    "### Compile the Model"
   ]
  },
  {
   "cell_type": "code",
   "execution_count": 13,
   "metadata": {},
   "outputs": [],
   "source": [
    "model.compile(loss=tf.keras.losses.BinaryCrossentropy(), optimizer=tf.keras.optimizers.Adam(1e-4), metrics=['accuracy'])              "
   ]
  },
  {
   "cell_type": "markdown",
   "metadata": {},
   "source": [
    "### Train the Model"
   ]
  },
  {
   "cell_type": "code",
   "execution_count": 14,
   "metadata": {},
   "outputs": [
    {
     "name": "stdout",
     "output_type": "stream",
     "text": [
      "Epoch 1/10\n",
      "887/887 [==============================] - 10s 7ms/step - loss: 0.6855 - accuracy: 0.5761 - val_loss: 0.6545 - val_accuracy: 0.7038\n",
      "Epoch 2/10\n",
      "887/887 [==============================] - 6s 7ms/step - loss: 0.5738 - accuracy: 0.7578 - val_loss: 0.5332 - val_accuracy: 0.7636\n",
      "Epoch 3/10\n",
      "887/887 [==============================] - 6s 7ms/step - loss: 0.4465 - accuracy: 0.8209 - val_loss: 0.4709 - val_accuracy: 0.7869\n",
      "Epoch 4/10\n",
      "887/887 [==============================] - 6s 7ms/step - loss: 0.3716 - accuracy: 0.8536 - val_loss: 0.4610 - val_accuracy: 0.7929\n",
      "Epoch 5/10\n",
      "887/887 [==============================] - 6s 7ms/step - loss: 0.3211 - accuracy: 0.8774 - val_loss: 0.4615 - val_accuracy: 0.7975\n",
      "Epoch 6/10\n",
      "887/887 [==============================] - 6s 7ms/step - loss: 0.2823 - accuracy: 0.8953 - val_loss: 0.4727 - val_accuracy: 0.7973\n",
      "Epoch 7/10\n",
      "887/887 [==============================] - 6s 7ms/step - loss: 0.2481 - accuracy: 0.9107 - val_loss: 0.4866 - val_accuracy: 0.7953\n",
      "Epoch 8/10\n",
      "887/887 [==============================] - 6s 7ms/step - loss: 0.2183 - accuracy: 0.9238 - val_loss: 0.4992 - val_accuracy: 0.7935\n",
      "Epoch 9/10\n",
      "887/887 [==============================] - 6s 7ms/step - loss: 0.1929 - accuracy: 0.9335 - val_loss: 0.5258 - val_accuracy: 0.7890\n",
      "Epoch 10/10\n",
      "887/887 [==============================] - 6s 7ms/step - loss: 0.1710 - accuracy: 0.9421 - val_loss: 0.5569 - val_accuracy: 0.7874\n"
     ]
    }
   ],
   "source": [
    "history = model.fit(pad_train, y_train, validation_data=(pad_test, y_test), epochs=10, validation_steps=30)"
   ]
  },
  {
   "cell_type": "markdown",
   "metadata": {},
   "source": [
    "### Evaluate the Model"
   ]
  },
  {
   "cell_type": "code",
   "execution_count": 163,
   "metadata": {},
   "outputs": [
    {
     "name": "stdout",
     "output_type": "stream",
     "text": [
      "887/887 [==============================] - 3s 4ms/step - loss: 0.1391 - accuracy: 0.9571\n",
      "Loss: 0.13905034959316254\n",
      "Accuracy: 0.9571222066879272\n"
     ]
    }
   ],
   "source": [
    "eval_loss, eval_acc = model.evaluate(pad_train, y_train)\n",
    "\n",
    "print('Loss:', eval_loss)\n",
    "print('Accuracy:', eval_acc)"
   ]
  },
  {
   "cell_type": "markdown",
   "metadata": {},
   "source": [
    "Plotting the accuracy, validation accuracy, loss, and validation loss of the model"
   ]
  },
  {
   "cell_type": "code",
   "execution_count": 164,
   "metadata": {},
   "outputs": [],
   "source": [
    "def plot_graphs(history, metric):\n",
    "  plt.plot(history.history[metric])\n",
    "  plt.plot(history.history['val_'+metric], '')\n",
    "  plt.xlabel(\"Epochs\")\n",
    "  plt.ylabel(metric)\n",
    "  plt.legend([metric, 'val_'+metric])"
   ]
  },
  {
   "cell_type": "code",
   "execution_count": 165,
   "metadata": {},
   "outputs": [
    {
     "data": {
      "text/plain": [
       "(0.0, 0.7123437531292438)"
      ]
     },
     "execution_count": 165,
     "metadata": {},
     "output_type": "execute_result"
    },
    {
     "data": {
      "image/png": "[encoded data removed]",
      "text/plain": [
       "<Figure size 1152x576 with 2 Axes>"
      ]
     },
     "metadata": {
      "needs_background": "light"
     },
     "output_type": "display_data"
    }
   ],
   "source": [
    "plt.figure(figsize=(16, 8))\n",
    "plt.subplot(1, 2, 1)\n",
    "plot_graphs(history, 'accuracy')\n",
    "plt.ylim(None, 1)\n",
    "plt.subplot(1, 2, 2)\n",
    "plot_graphs(history, 'loss')\n",
    "plt.ylim(0, None)"
   ]
  },
  {
   "cell_type": "markdown",
   "metadata": {},
   "source": [
    "### Create a function that will use the Model to predict sentiment of a given string"
   ]
  },
  {
   "cell_type": "code",
   "execution_count": 301,
   "metadata": {},
   "outputs": [],
   "source": [
    "def predict_sentiment(text):\n",
    "  text_seq = tokenizer.texts_to_sequences(text)\n",
    "  text_pad = pad_sequences(text_seq, maxlen=T)\n",
    "  \n",
    "  sentiment_value = model.predict(text_pad)[0][0]\n",
    "\n",
    "  print(text)\n",
    "  if sentiment_value < 0.40:\n",
    "    return(print('NEGATIVE: ',sentiment_value))\n",
    "  elif sentiment_value < 0.60:\n",
    "    return(print('NEUTRAL: ',sentiment_value))\n",
    "  else: \n",
    "    return(print('POSITIVE: ',sentiment_value)) "
   ]
  },
  {
   "cell_type": "code",
   "execution_count": 297,
   "metadata": {},
   "outputs": [],
   "source": [
    "def get_sentiment(text):\n",
    "  text_seq = tokenizer.texts_to_sequences(text)\n",
    "  text_pad = pad_sequences(text_seq, maxlen=T)\n",
    "  \n",
    "  sentiment_value = model.predict(text_pad)[0][0]\n",
    "  return(sentiment_value)"
   ]
  },
  {
   "cell_type": "markdown",
   "metadata": {},
   "source": [
    "#### Predict sample text"
   ]
  },
  {
   "cell_type": "code",
   "execution_count": 298,
   "metadata": {},
   "outputs": [
    {
     "name": "stdout",
     "output_type": "stream",
     "text": [
      "1/1 [==============================] - 0s 17ms/step\n",
      "['What a wonderful day. Im so happy.']\n",
      "POSITIVE:  0.988976\n",
      "1/1 [==============================] - 0s 17ms/step\n",
      "['That movie was terrible! I want my money back.']\n",
      "NEGATIVE:  0.021681963\n"
     ]
    }
   ],
   "source": [
    "positive_text = ['What a wonderful day. Im so happy.']\n",
    "negative_text = ['That movie was terrible! I want my money back.']\n",
    "\n",
    "predict_sentiment(positive_text)\n",
    "predict_sentiment(negative_text)"
   ]
  },
  {
   "cell_type": "markdown",
   "metadata": {},
   "source": [
    "### ↓ Insert custom text below ↓\n",
    "- Insert the text on the sample_line between the quotes ['  '].\n",
    "- Then run the code block below.\n",
    "- *Do not use quotes \"\" or apostrophes '' inside the custom text*"
   ]
  },
  {
   "cell_type": "code",
   "execution_count": 300,
   "metadata": {},
   "outputs": [
    {
     "name": "stdout",
     "output_type": "stream",
     "text": [
      "1/1 [==============================] - 0s 17ms/step\n",
      "['What a wonderful day. Im so happy.']\n",
      "POSITIVE:  0.988976\n",
      "1/1 [==============================] - 0s 26ms/step\n"
     ]
    },
    {
     "data": {
      "image/png": "[encoded data removed]",
      "text/plain": [
       "<Figure size 432x288 with 1 Axes>"
      ]
     },
     "metadata": {
      "needs_background": "light"
     },
     "output_type": "display_data"
    }
   ],
   "source": [
    "####################################################################\n",
    "################ INSERT TEXT BELOW #################################\n",
    "\n",
    "sample_text = ['That movie was terrible']\n",
    "\n",
    "################ INSERT TEXT ABOVE #################################\n",
    "\n",
    "# example_text_here1 = ['What a wonderful day. Im so happy.']\n",
    "\n",
    "####################################################################\n",
    "\n",
    "predict_sentiment(sample_text)\n",
    "x = get_sentiment(sample_text)\n",
    "\n",
    "fig = plt.figure()\n",
    "ax = fig.add_axes([0,0,1,1])\n",
    "polarity = ['Positive Polarity']\n",
    "value = [x]\n",
    "ax.bar(polarity,value)\n",
    "ax.set_ylim([0, 1])\n",
    "plt.axhline(y=0.3,linewidth=1, color='r')\n",
    "plt.axhline(y=0.6,linewidth=1, color='b')\n",
    "plt.show()"
   ]
  }
 ],
 "metadata": {
  "interpreter": {
   "hash": "0ebf56efb87a970c9afff909ccad9a7faf33ba998cdb3ce15ccca249c261d5bd"
  },
  "kernelspec": {
   "display_name": "Python 3 (ipykernel)",
   "language": "python",
   "name": "python3"
  },
  "language_info": {
   "codemirror_mode": {
    "name": "ipython",
    "version": 3
   },
   "file_extension": ".py",
   "mimetype": "text/x-python",
   "name": "python",
   "nbconvert_exporter": "python",
   "pygments_lexer": "ipython3",
   "version": "3.9.12"
  }
 },
 "nbformat": 4,
 "nbformat_minor": 2
}
